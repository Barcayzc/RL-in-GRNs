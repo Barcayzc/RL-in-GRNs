{
 "cells": [
  {
   "cell_type": "code",
   "execution_count": null,
   "id": "1405054d",
   "metadata": {},
   "outputs": [],
   "source": [
    "# import pickle\n",
    "# from pathlib import Path\n",
    "# import gymnasium as gym\n",
    "# import sys\n",
    "# import gym_PBN\n",
    "\n",
    "# # ─── 1) load your “safe” logic-func and gene names ─────────────────────────\n",
    "# DATA_DIR        = Path('/Users/yzc/Desktop/Spring2025/CSCI1470/Final_Project/RL-in-GRNs/data_prepared')\n",
    "# LOGIC_PATH      = DATA_DIR / \"logic_func_data_safe.pkl\"\n",
    "# GENE_NAMES_PATH = DATA_DIR / \"gene_names_safe.txt\"\n",
    "\n",
    "# with open(GENE_NAMES_PATH) as f:\n",
    "#     node_names = [l.strip() for l in f if l.strip()]\n",
    "# with open(LOGIC_PATH, \"rb\") as f:\n",
    "#     logic_map = pickle.load(f)\n",
    "\n",
    "# logic_funcs     = [logic_map[name] for name in node_names]\n",
    "# logic_func_data = (node_names, logic_funcs)\n",
    "\n",
    "# # ─── 2) define your “target subset” goal_config ────────────────────────────\n",
    "# #    e.g. we want genes [0,1,2] all OFF as “success”\n",
    "# goal_config = {\n",
    "#     \"target_nodes\":         [0, 1, 2],        # which dims to look at\n",
    "#     \"target_node_values\":   [(0, 0, 0)],      # tuple of tuples\n",
    "#     \"undesired_node_values\":[],               # none here\n",
    "#     \"intervene_on\":         list(range(len(node_names))),\n",
    "# }\n",
    "\n",
    "# # ─── 3) instantiate the SSD-based env so it won’t try to compute attractors ─\n",
    "# env = gym.make(\n",
    "#     \"gym-PBN/PBN-target-v0\",\n",
    "#     logic_func_data=logic_func_data,\n",
    "#     goal_config=goal_config,\n",
    "#     reward_config={\n",
    "#         \"successful_reward\":   10,   # r > 2 (paper used 10 for subset)\n",
    "#         \"wrong_attractor_cost\":10,   # −10 for undesirable states\n",
    "#         \"action_cost\":         1     # per-flip\n",
    "#     }\n",
    "# )\n",
    "\n",
    "# # set your horizon\n",
    "# env.horizon = 20\n",
    "\n",
    "# print(env.observation_space, env.action_space, \"horizon:\", env.horizon)\n",
    "\n",
    "# # ─── 4) quick smoke test ───────────────────────────────────────────────────\n",
    "# obs, _      = env.reset()\n",
    "# action      = env.action_space.sample()\n",
    "# obs2, r, done, truncated, info = env.step(action)\n",
    "# print(\"step ok:\", obs2.shape, \"r=\", r)\n",
    "\n"
   ]
  },
  {
   "cell_type": "code",
   "execution_count": 1,
   "id": "c149b67d",
   "metadata": {},
   "outputs": [
    {
     "name": "stderr",
     "output_type": "stream",
     "text": [
      "/opt/anaconda3/envs/grn/lib/python3.10/site-packages/tqdm/auto.py:21: TqdmWarning: IProgress not found. Please update jupyter and ipywidgets. See https://ipywidgets.readthedocs.io/en/stable/user_install.html\n",
      "  from .autonotebook import tqdm as notebook_tqdm\n"
     ]
    },
    {
     "name": "stdout",
     "output_type": "stream",
     "text": [
      "Computing attractors...\n"
     ]
    },
    {
     "ename": "TypeError",
     "evalue": "PBNEnv.render() got an unexpected keyword argument 'mode'",
     "output_type": "error",
     "traceback": [
      "\u001b[0;31m---------------------------------------------------------------------------\u001b[0m",
      "\u001b[0;31mTypeError\u001b[0m                                 Traceback (most recent call last)",
      "Cell \u001b[0;32mIn[1], line 12\u001b[0m\n\u001b[1;32m      2\u001b[0m sys\u001b[38;5;241m.\u001b[39margv \u001b[38;5;241m=\u001b[39m [\n\u001b[1;32m      3\u001b[0m     \u001b[38;5;124m\"\u001b[39m\u001b[38;5;124mtrain.py\u001b[39m\u001b[38;5;124m\"\u001b[39m,\n\u001b[1;32m      4\u001b[0m     \u001b[38;5;124m\"\u001b[39m\u001b[38;5;124m--data-dir\u001b[39m\u001b[38;5;124m\"\u001b[39m, \u001b[38;5;124m\"\u001b[39m\u001b[38;5;124m/Users/yzc/Desktop/Spring2025/CSCI1470/Final_Project/RL-in-GRNs/data_prepared\u001b[39m\u001b[38;5;124m\"\u001b[39m,\n\u001b[0;32m   (...)\u001b[0m\n\u001b[1;32m      9\u001b[0m     \u001b[38;5;124m\"\u001b[39m\u001b[38;5;124m--log-dir\u001b[39m\u001b[38;5;124m\"\u001b[39m,\u001b[38;5;124m\"\u001b[39m\u001b[38;5;124m./logs\u001b[39m\u001b[38;5;124m\"\u001b[39m,\n\u001b[1;32m     10\u001b[0m ]\n\u001b[1;32m     11\u001b[0m \u001b[38;5;28;01mimport\u001b[39;00m\u001b[38;5;250m \u001b[39m\u001b[38;5;21;01mtrain\u001b[39;00m  \u001b[38;5;66;03m# or whatever your entry‐point module is\u001b[39;00m\n\u001b[0;32m---> 12\u001b[0m \u001b[43mtrain\u001b[49m\u001b[38;5;241;43m.\u001b[39;49m\u001b[43mmain\u001b[49m\u001b[43m(\u001b[49m\u001b[43m)\u001b[49m\n",
      "File \u001b[0;32m~/Desktop/Spring2025/CSCI1470/Final_Project/RL-in-GRNs/dqn/train.py:71\u001b[0m, in \u001b[0;36mmain\u001b[0;34m()\u001b[0m\n\u001b[1;32m     68\u001b[0m node_names, logic_funcs \u001b[38;5;241m=\u001b[39m load_logic_func_data(args\u001b[38;5;241m.\u001b[39mdata_dir)\n\u001b[1;32m     70\u001b[0m \u001b[38;5;66;03m# 2) Create environment (auto‐compute attractors)\u001b[39;00m\n\u001b[0;32m---> 71\u001b[0m env \u001b[38;5;241m=\u001b[39m \u001b[43mgym\u001b[49m\u001b[38;5;241;43m.\u001b[39;49m\u001b[43mmake\u001b[49m\u001b[43m(\u001b[49m\n\u001b[1;32m     72\u001b[0m \u001b[43m    \u001b[49m\u001b[38;5;124;43m\"\u001b[39;49m\u001b[38;5;124;43mgym-PBN/PBN-v0\u001b[39;49m\u001b[38;5;124;43m\"\u001b[39;49m\u001b[43m,\u001b[49m\n\u001b[1;32m     73\u001b[0m \u001b[43m    \u001b[49m\u001b[43mlogic_func_data\u001b[49m\u001b[38;5;241;43m=\u001b[39;49m\u001b[43m(\u001b[49m\u001b[43mnode_names\u001b[49m\u001b[43m,\u001b[49m\u001b[43m \u001b[49m\u001b[43mlogic_funcs\u001b[49m\u001b[43m)\u001b[49m\u001b[43m,\u001b[49m\n\u001b[1;32m     74\u001b[0m \u001b[43m    \u001b[49m\u001b[43mreward_config\u001b[49m\u001b[38;5;241;43m=\u001b[39;49m\u001b[43m{\u001b[49m\n\u001b[1;32m     75\u001b[0m \u001b[43m        \u001b[49m\u001b[38;5;124;43m\"\u001b[39;49m\u001b[38;5;124;43msuccessful_reward\u001b[39;49m\u001b[38;5;124;43m\"\u001b[39;49m\u001b[43m:\u001b[49m\u001b[43m \u001b[49m\u001b[38;5;241;43m5\u001b[39;49m\u001b[43m,\u001b[49m\n\u001b[1;32m     76\u001b[0m \u001b[43m        \u001b[49m\u001b[38;5;124;43m\"\u001b[39;49m\u001b[38;5;124;43mwrong_attractor_cost\u001b[39;49m\u001b[38;5;124;43m\"\u001b[39;49m\u001b[43m:\u001b[49m\u001b[43m \u001b[49m\u001b[38;5;241;43m2\u001b[39;49m\u001b[43m,\u001b[49m\n\u001b[1;32m     77\u001b[0m \u001b[43m        \u001b[49m\u001b[38;5;124;43m\"\u001b[39;49m\u001b[38;5;124;43maction_cost\u001b[39;49m\u001b[38;5;124;43m\"\u001b[39;49m\u001b[43m:\u001b[49m\u001b[43m \u001b[49m\u001b[38;5;241;43m1\u001b[39;49m\n\u001b[1;32m     78\u001b[0m \u001b[43m    \u001b[49m\u001b[43m}\u001b[49m\n\u001b[1;32m     79\u001b[0m \u001b[43m\u001b[49m\u001b[43m)\u001b[49m\n\u001b[1;32m     80\u001b[0m env\u001b[38;5;241m.\u001b[39mhorizon \u001b[38;5;241m=\u001b[39m args\u001b[38;5;241m.\u001b[39mhorizon\n\u001b[1;32m     82\u001b[0m state_dim \u001b[38;5;241m=\u001b[39m env\u001b[38;5;241m.\u001b[39mobservation_space\u001b[38;5;241m.\u001b[39mn\n",
      "File \u001b[0;32m/opt/anaconda3/envs/grn/lib/python3.10/site-packages/gymnasium/envs/registration.py:653\u001b[0m, in \u001b[0;36mmake\u001b[0;34m(id, max_episode_steps, autoreset, apply_api_compatibility, disable_env_checker, **kwargs)\u001b[0m\n\u001b[1;32m    647\u001b[0m         \u001b[38;5;28;01mraise\u001b[39;00m error\u001b[38;5;241m.\u001b[39mError(\n\u001b[1;32m    648\u001b[0m             \u001b[38;5;124mf\u001b[39m\u001b[38;5;124m\"\u001b[39m\u001b[38;5;124mYou passed render_mode=\u001b[39m\u001b[38;5;124m'\u001b[39m\u001b[38;5;124mhuman\u001b[39m\u001b[38;5;124m'\u001b[39m\u001b[38;5;124m although \u001b[39m\u001b[38;5;132;01m{\u001b[39;00m\u001b[38;5;28mid\u001b[39m\u001b[38;5;132;01m}\u001b[39;00m\u001b[38;5;124m doesn\u001b[39m\u001b[38;5;124m'\u001b[39m\u001b[38;5;124mt implement human-rendering natively. \u001b[39m\u001b[38;5;124m\"\u001b[39m\n\u001b[1;32m    649\u001b[0m             \u001b[38;5;124m\"\u001b[39m\u001b[38;5;124mGym tried to apply the HumanRendering wrapper but it looks like your environment is using the old \u001b[39m\u001b[38;5;124m\"\u001b[39m\n\u001b[1;32m    650\u001b[0m             \u001b[38;5;124m\"\u001b[39m\u001b[38;5;124mrendering API, which is not supported by the HumanRendering wrapper.\u001b[39m\u001b[38;5;124m\"\u001b[39m\n\u001b[1;32m    651\u001b[0m         ) \u001b[38;5;28;01mfrom\u001b[39;00m\u001b[38;5;250m \u001b[39m\u001b[38;5;21;01me\u001b[39;00m\n\u001b[1;32m    652\u001b[0m     \u001b[38;5;28;01melse\u001b[39;00m:\n\u001b[0;32m--> 653\u001b[0m         \u001b[38;5;28;01mraise\u001b[39;00m e\n\u001b[1;32m    655\u001b[0m \u001b[38;5;66;03m# Copies the environment creation specification and kwargs to add to the environment specification details\u001b[39;00m\n\u001b[1;32m    656\u001b[0m spec_ \u001b[38;5;241m=\u001b[39m copy\u001b[38;5;241m.\u001b[39mdeepcopy(spec_)\n",
      "File \u001b[0;32m/opt/anaconda3/envs/grn/lib/python3.10/site-packages/gymnasium/envs/registration.py:641\u001b[0m, in \u001b[0;36mmake\u001b[0;34m(id, max_episode_steps, autoreset, apply_api_compatibility, disable_env_checker, **kwargs)\u001b[0m\n\u001b[1;32m    638\u001b[0m     render_mode \u001b[38;5;241m=\u001b[39m \u001b[38;5;28;01mNone\u001b[39;00m\n\u001b[1;32m    640\u001b[0m \u001b[38;5;28;01mtry\u001b[39;00m:\n\u001b[0;32m--> 641\u001b[0m     env \u001b[38;5;241m=\u001b[39m \u001b[43menv_creator\u001b[49m\u001b[43m(\u001b[49m\u001b[38;5;241;43m*\u001b[39;49m\u001b[38;5;241;43m*\u001b[39;49m\u001b[43m_kwargs\u001b[49m\u001b[43m)\u001b[49m\n\u001b[1;32m    642\u001b[0m \u001b[38;5;28;01mexcept\u001b[39;00m \u001b[38;5;167;01mTypeError\u001b[39;00m \u001b[38;5;28;01mas\u001b[39;00m e:\n\u001b[1;32m    643\u001b[0m     \u001b[38;5;28;01mif\u001b[39;00m (\n\u001b[1;32m    644\u001b[0m         \u001b[38;5;28mstr\u001b[39m(e)\u001b[38;5;241m.\u001b[39mfind(\u001b[38;5;124m\"\u001b[39m\u001b[38;5;124mgot an unexpected keyword argument \u001b[39m\u001b[38;5;124m'\u001b[39m\u001b[38;5;124mrender_mode\u001b[39m\u001b[38;5;124m'\u001b[39m\u001b[38;5;124m\"\u001b[39m) \u001b[38;5;241m>\u001b[39m\u001b[38;5;241m=\u001b[39m \u001b[38;5;241m0\u001b[39m\n\u001b[1;32m    645\u001b[0m         \u001b[38;5;129;01mand\u001b[39;00m apply_human_rendering\n\u001b[1;32m    646\u001b[0m     ):\n",
      "File \u001b[0;32m/opt/anaconda3/envs/grn/lib/python3.10/site-packages/gym_PBN/envs/pbn_env.py:36\u001b[0m, in \u001b[0;36mPBNEnv.__init__\u001b[0;34m(self, render_mode, render_no_cache, PBN_data, logic_func_data, name, goal_config, reward_config)\u001b[0m\n\u001b[1;32m     32\u001b[0m \u001b[38;5;28;01mif\u001b[39;00m (\n\u001b[1;32m     33\u001b[0m     goal_config \u001b[38;5;129;01mis\u001b[39;00m \u001b[38;5;28;01mNone\u001b[39;00m\n\u001b[1;32m     34\u001b[0m ):  \u001b[38;5;66;03m# If no goal config is provided, then compute attractors and set the target as the last attractor.\u001b[39;00m\n\u001b[1;32m     35\u001b[0m     goal_config \u001b[38;5;241m=\u001b[39m {}\n\u001b[0;32m---> 36\u001b[0m     goal_config[\u001b[38;5;124m\"\u001b[39m\u001b[38;5;124mall_attractors\u001b[39m\u001b[38;5;124m\"\u001b[39m] \u001b[38;5;241m=\u001b[39m \u001b[38;5;28;43mself\u001b[39;49m\u001b[38;5;241;43m.\u001b[39;49m\u001b[43mcompute_attractors\u001b[49m\u001b[43m(\u001b[49m\u001b[43m)\u001b[49m\n\u001b[1;32m     37\u001b[0m     goal_config[\u001b[38;5;124m\"\u001b[39m\u001b[38;5;124mtarget\u001b[39m\u001b[38;5;124m\"\u001b[39m] \u001b[38;5;241m=\u001b[39m goal_config[\u001b[38;5;124m\"\u001b[39m\u001b[38;5;124mall_attractors\u001b[39m\u001b[38;5;124m\"\u001b[39m][\u001b[38;5;241m-\u001b[39m\u001b[38;5;241m1\u001b[39m]\n\u001b[1;32m     38\u001b[0m \u001b[38;5;28;01melse\u001b[39;00m:\n",
      "File \u001b[0;32m/opt/anaconda3/envs/grn/lib/python3.10/site-packages/gym_PBN/envs/pbn_env.py:196\u001b[0m, in \u001b[0;36mPBNEnv.compute_attractors\u001b[0;34m(self)\u001b[0m\n\u001b[1;32m    194\u001b[0m \u001b[38;5;28;01mdef\u001b[39;00m\u001b[38;5;250m \u001b[39m\u001b[38;5;21mcompute_attractors\u001b[39m(\u001b[38;5;28mself\u001b[39m):\n\u001b[1;32m    195\u001b[0m     \u001b[38;5;28mprint\u001b[39m(\u001b[38;5;124m\"\u001b[39m\u001b[38;5;124mComputing attractors...\u001b[39m\u001b[38;5;124m\"\u001b[39m)\n\u001b[0;32m--> 196\u001b[0m     STG \u001b[38;5;241m=\u001b[39m \u001b[38;5;28;43mself\u001b[39;49m\u001b[38;5;241;43m.\u001b[39;49m\u001b[43mrender\u001b[49m\u001b[43m(\u001b[49m\u001b[43mmode\u001b[49m\u001b[38;5;241;43m=\u001b[39;49m\u001b[38;5;124;43m\"\u001b[39;49m\u001b[38;5;124;43mSTG\u001b[39;49m\u001b[38;5;124;43m\"\u001b[39;49m\u001b[43m)\u001b[49m\n\u001b[1;32m    197\u001b[0m     generator \u001b[38;5;241m=\u001b[39m nx\u001b[38;5;241m.\u001b[39malgorithms\u001b[38;5;241m.\u001b[39mcomponents\u001b[38;5;241m.\u001b[39mattracting_components(STG)\n\u001b[1;32m    198\u001b[0m     \u001b[38;5;28;01mreturn\u001b[39;00m \u001b[38;5;28mself\u001b[39m\u001b[38;5;241m.\u001b[39m_nx_attractors_to_tuples(\u001b[38;5;28mlist\u001b[39m(generator))\n",
      "\u001b[0;31mTypeError\u001b[0m: PBNEnv.render() got an unexpected keyword argument 'mode'"
     ]
    }
   ],
   "source": [
    "import sys\n",
    "sys.argv = [\n",
    "    \"train.py\",\n",
    "    \"--data-dir\", \"/Users/yzc/Desktop/Spring2025/CSCI1470/Final_Project/RL-in-GRNs/data_prepared\",\n",
    "    \"--episodes\", \"5000\",\n",
    "    \"--horizon\",\"20\",\n",
    "    \"--batch-size\",\"64\",\n",
    "    \"--target-update\",\"1000\",\n",
    "    \"--log-dir\",\"./logs\",\n",
    "]\n",
    "import train  # or whatever your entry‐point module is\n",
    "train.main()\n"
   ]
  }
 ],
 "metadata": {
  "kernelspec": {
   "display_name": "grn",
   "language": "python",
   "name": "python3"
  },
  "language_info": {
   "codemirror_mode": {
    "name": "ipython",
    "version": 3
   },
   "file_extension": ".py",
   "mimetype": "text/x-python",
   "name": "python",
   "nbconvert_exporter": "python",
   "pygments_lexer": "ipython3",
   "version": "3.10.16"
  }
 },
 "nbformat": 4,
 "nbformat_minor": 5
}
